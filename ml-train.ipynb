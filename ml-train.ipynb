{
 "cells": [
  {
   "cell_type": "code",
   "execution_count": 52,
   "id": "f4d013f3",
   "metadata": {},
   "outputs": [],
   "source": [
    "import pandas as pd\n",
    "from sklearn.ensemble import RandomForestRegressor\n",
    "from sklearn.linear_model import LinearRegression\n",
    "from sklearn.model_selection import train_test_split\n",
    "import numpy as np\n",
    "from sklearn.ensemble import GradientBoostingRegressor\n",
    "from sklearn.model_selection import GridSearchCV\n",
    "from sklearn.metrics import accuracy_score, classification_report, mean_squared_error, r2_score, mean_absolute_error\n",
    "from sklearn.preprocessing import OneHotEncoder\n",
    "from sklearn.linear_model import Ridge, Lasso"
   ]
  },
  {
   "cell_type": "code",
   "execution_count": 51,
   "id": "1b84955b",
   "metadata": {},
   "outputs": [],
   "source": [
    "#filename = r\"C:/Users/Becode/immo-eliza-ML/immoEliza-ML/Charly's model/data/data_cleanned.csv\"\n",
    "filename = r\"C:/Users/Becode/immo-eliza-ML/immoEliza-ML/ml_ready_real_estate_data_soft_filled.csv\"\n",
    "df = pd.read_csv(filename)\n",
    "\n",
    "features = ['bedroomCount','habitableSurface', 'province_encoded', 'epcScore_encoded',\n",
    "            'bathroomCount', 'hasLift_encoded']\n",
    "\n",
    "X = df[features] # X: features to the model\n",
    "y = df['price'] # y: target variable (price)\n"
   ]
  },
  {
   "cell_type": "code",
   "execution_count": 19,
   "id": "54b7446e",
   "metadata": {},
   "outputs": [
    {
     "name": "stdout",
     "output_type": "stream",
     "text": [
      "Totals rows in the dataset: 67783\n",
      "67783\n"
     ]
    }
   ],
   "source": [
    "print(f\"Totals rows in the dataset: {len(pd.read_csv (filename))}\")\n",
    "print(len(df))"
   ]
  },
  {
   "cell_type": "code",
   "execution_count": 39,
   "id": "87219b46",
   "metadata": {},
   "outputs": [
    {
     "name": "stdout",
     "output_type": "stream",
     "text": [
      "Removed 3 rows with missing prices\n",
      "       bedroomCount  bathroomCount  habitableSurface  toiletCount  \\\n",
      "0               2.0            1.0             100.0          1.0   \n",
      "1               4.0            2.0             270.0          3.0   \n",
      "2               2.0            1.0              87.0          1.0   \n",
      "3               2.0            2.0             104.0          2.0   \n",
      "4               1.0            1.0              71.0          1.0   \n",
      "...             ...            ...               ...          ...   \n",
      "67778           3.0            1.0             252.0          3.0   \n",
      "67779           3.0            1.0              94.0          1.0   \n",
      "67780           3.0            1.0             113.0          1.0   \n",
      "67781           3.0            2.0             111.0          2.0   \n",
      "67782           3.0            2.0             132.0          2.0   \n",
      "\n",
      "       terraceSurface  postCode  gardenSurface  province_encoded  \\\n",
      "0                 7.0      1040            0.0               1.0   \n",
      "1                 1.0      1040          100.0               1.0   \n",
      "2                 2.0      1040            0.0               1.0   \n",
      "3                 3.0      1040            0.0               1.0   \n",
      "4                 0.0      1040            0.0               1.0   \n",
      "...               ...       ...            ...               ...   \n",
      "67778            36.0      2830          390.0               3.0   \n",
      "67779            10.0      1090            0.0               1.0   \n",
      "67780             9.0      1853            0.0               NaN   \n",
      "67781             0.0      8434            0.0               NaN   \n",
      "67782             0.0      2610            0.0               3.0   \n",
      "\n",
      "       type_encoded  subtype_encoded  ...  hasOffice_encoded  \\\n",
      "0                 1                1  ...                  0   \n",
      "1                 2                2  ...                  1   \n",
      "2                 1                1  ...                  0   \n",
      "3                 1                1  ...                  0   \n",
      "4                 1                3  ...                  0   \n",
      "...             ...              ...  ...                ...   \n",
      "67778             2               13  ...                  0   \n",
      "67779             1                1  ...                  0   \n",
      "67780             1                1  ...                  0   \n",
      "67781             1                1  ...                  0   \n",
      "67782             1                1  ...                  0   \n",
      "\n",
      "       hasSwimmingPool_encoded  hasFireplace_encoded  hasBasement_encoded  \\\n",
      "0                            0                     0                    1   \n",
      "1                            0                     0                    1   \n",
      "2                            0                     0                    0   \n",
      "3                            0                     0                    0   \n",
      "4                            0                     0                    0   \n",
      "...                        ...                   ...                  ...   \n",
      "67778                        1                     0                    0   \n",
      "67779                        0                     0                    1   \n",
      "67780                        0                     0                    1   \n",
      "67781                        0                     0                    0   \n",
      "67782                        0                     0                    0   \n",
      "\n",
      "       hasDressingRoom_encoded  hasDiningRoom_encoded  hasLift_encoded  \\\n",
      "0                            0                      0                1   \n",
      "1                            0                      1                0   \n",
      "2                            0                      0                1   \n",
      "3                            0                      0                1   \n",
      "4                            0                      0                0   \n",
      "...                        ...                    ...              ...   \n",
      "67778                        0                      1                0   \n",
      "67779                        0                      0                1   \n",
      "67780                        0                      0                1   \n",
      "67781                        0                      0                1   \n",
      "67782                        0                      1                1   \n",
      "\n",
      "       hasHeatPump_encoded  hasPhotovoltaicPanels_encoded  \\\n",
      "0                        0                              0   \n",
      "1                        0                              0   \n",
      "2                        0                              0   \n",
      "3                        0                              0   \n",
      "4                        0                              0   \n",
      "...                    ...                            ...   \n",
      "67778                    1                              0   \n",
      "67779                    0                              0   \n",
      "67780                    0                              0   \n",
      "67781                    0                              0   \n",
      "67782                    0                              0   \n",
      "\n",
      "       hasLivingRoom_encoded  \n",
      "0                          1  \n",
      "1                          1  \n",
      "2                          1  \n",
      "3                          1  \n",
      "4                          0  \n",
      "...                      ...  \n",
      "67778                      1  \n",
      "67779                      1  \n",
      "67780                      1  \n",
      "67781                      1  \n",
      "67782                      1  \n",
      "\n",
      "[67780 rows x 27 columns]\n"
     ]
    }
   ],
   "source": [
    "# convert categorical variables to numerical values\n",
    "\n",
    "if \"price\" in df.columns:\n",
    "        # Remove rows with missing prices (can't train without target)\n",
    "        before_price = len(df)\n",
    "        df = df.dropna(subset=[\"price\"])\n",
    "        after_price = len(df)\n",
    "        print(f\"Removed {before_price - after_price} rows with missing prices\")\n",
    "        \n",
    "for column in df.columns:\n",
    "    if df[column].dtype == 'object':\n",
    "        df = pd.get_dummies(df, columns=[column], drop_first=True)\n",
    "\n",
    "#Define features and target variable\n",
    "features = df.columns[df.columns != 'price'].tolist() # all columns except 'price'\n",
    "X = df[features]\n",
    "y = df['price']\n",
    "\n",
    "print(X)"
   ]
  },
  {
   "cell_type": "code",
   "execution_count": 40,
   "id": "0f734c1d",
   "metadata": {},
   "outputs": [],
   "source": [
    "# Identify categorical columns\n",
    "categorical_cols = X.select_dtypes(include=['object']).columns.tolist()\n",
    "\n",
    "# Apply one-hot encoding to categorical columns\n",
    "encoder = OneHotEncoder(sparse_output=False, handle_unknown='ignore')\n",
    "encoded_cols = pd.DataFrame(encoder.fit_transform(X[categorical_cols]),\n",
    "                            columns=encoder.get_feature_names_out(categorical_cols))"
   ]
  },
  {
   "cell_type": "code",
   "execution_count": 45,
   "id": "57e4e15b",
   "metadata": {},
   "outputs": [
    {
     "name": "stdout",
     "output_type": "stream",
     "text": [
      "Shape of X after concat: (67780, 27)\n"
     ]
    }
   ],
   "source": [
    "# reset index to align with original DataFrame\n",
    "encoded_cols.index = X.index\n",
    "\n",
    "# Drop original categorical columns and concatenate encoded columns\n",
    "X = X.drop(categorical_cols, axis=1)\n",
    "X = pd.concat([X, encoded_cols], axis=1)\n",
    "print(\"Shape of X after concat:\", X.shape)\n",
    "\n",
    "# Remove outliers from the target variable y using IQR\n",
    "Q1 = y.quantile(0.25)\n",
    "Q3 = y.quantile(0.75)\n",
    "IQR = Q3 - Q1\n",
    "lower_bound = Q1 - 1.5 * IQR\n",
    "upper_bound = Q3 - 1.5 * IQR\n",
    "\n",
    "#Filter the dataset to keep only the non-outlier rows\n",
    "mask = (y > lower_bound) & (y < upper_bound)\n",
    "X = X.values\n",
    "y = y.values\n",
    "#----- End of outlier removal ------\n",
    "\n",
    "X_train, X_test, y_train, y_test = train_test_split(X, y, test_size = 0.2)"
   ]
  },
  {
   "cell_type": "code",
   "execution_count": 46,
   "id": "0cc7de5f",
   "metadata": {},
   "outputs": [
    {
     "name": "stdout",
     "output_type": "stream",
     "text": [
      "Fitting 5 folds for each of 1 candidates, totalling 5 fits\n",
      "Train Score: 0.7688433539656299\n",
      "Test Score: 0.7042767984527278\n",
      "R2_score: 0.7042767984527278\n",
      "mean_squared_error: 77653046061.593\n",
      "mean_absolute_error: 120341.60199566095\n"
     ]
    }
   ],
   "source": [
    "#prepare the parameter grid for GridSearchCV\n",
    "param_grid = {'n_estimators' : [300],\n",
    "              'max_features' : [0.5],\n",
    "              'max_depth' : [10],\n",
    "               'min_samples_leaf' : [10], \n",
    "                'min_samples_split' : [5]\n",
    "}\n",
    "\n",
    "grid =  GridSearchCV(RandomForestRegressor(), param_grid, cv=5, n_jobs=-1, verbose=2) # Initialize GridSearchCV with the model and parameter grid\n",
    "\n",
    "grid.fit(X_train, y_train) # Fit the grid search to the training data\n",
    "best_model = grid.best_estimator_ # Get the best model from the grid search\n",
    "\n",
    "# Predicting the target variable using the trained model\n",
    "train_score = best_model.score(X_train, y_train)\n",
    "test_score = best_model.score(X_test, y_test)\n",
    "print(f\"Train Score: {train_score}\")\n",
    "print(f\"Test Score: {test_score}\")\n",
    "print(\"R2_score:\", r2_score(y_test, best_model.predict(X_test)))\n",
    "print(\"mean_squared_error:\", mean_squared_error(y_test, best_model.predict(X_test)))\n",
    "print(\"mean_absolute_error:\", mean_absolute_error(y_test, best_model.predict(X_test)))\n"
   ]
  }
 ],
 "metadata": {
  "kernelspec": {
   "display_name": "Python 3",
   "language": "python",
   "name": "python3"
  },
  "language_info": {
   "codemirror_mode": {
    "name": "ipython",
    "version": 3
   },
   "file_extension": ".py",
   "mimetype": "text/x-python",
   "name": "python",
   "nbconvert_exporter": "python",
   "pygments_lexer": "ipython3",
   "version": "3.13.4"
  }
 },
 "nbformat": 4,
 "nbformat_minor": 5
}
